{
 "cells": [
  {
   "metadata": {},
   "cell_type": "markdown",
   "source": "# **Water Tank Management Model**",
   "id": "5d9e3614d562ec38"
  },
  {
   "metadata": {},
   "cell_type": "markdown",
   "source": "## Imports",
   "id": "56a11c327227e385"
  },
  {
   "metadata": {
    "ExecuteTime": {
     "end_time": "2025-10-19T13:12:28.704782Z",
     "start_time": "2025-10-19T13:12:28.696451Z"
    }
   },
   "cell_type": "code",
   "source": [
    "import pandas as pd\n",
    "import numpy as np\n",
    "from sklearn.model_selection import train_test_split\n",
    "from sklearn.preprocessing import StandardScaler\n",
    "from sklearn.neighbors import KNeighborsClassifier\n",
    "from sklearn.metrics import accuracy_score, confusion_matrix, classification_report\n",
    "import seaborn as sns\n",
    "import matplotlib.pyplot as plt\n",
    "import joblib"
   ],
   "id": "2d09a729dbd5b3a7",
   "outputs": [],
   "execution_count": 16
  },
  {
   "metadata": {},
   "cell_type": "markdown",
   "source": "## File Names and Location",
   "id": "c031685b15442830"
  },
  {
   "metadata": {
    "ExecuteTime": {
     "end_time": "2025-10-19T13:12:28.745652Z",
     "start_time": "2025-10-19T13:12:28.741652Z"
    }
   },
   "cell_type": "code",
   "source": [
    "training_data_file = \"data/training_dataset_03.csv\"\n",
    "water_pump_model = \"model/aqua_man_model.pkl\"\n",
    "water_pump_scaler = \"model/aqua_man_scaler.pkl\"\n",
    "leak_detection_model = \"model/leak_detector_model.pkl\"\n",
    "leak_detection_scaler = \"model/leak_detector_scaler.pkl\""
   ],
   "id": "83207a5ee698111b",
   "outputs": [],
   "execution_count": 17
  },
  {
   "metadata": {},
   "cell_type": "markdown",
   "source": "## Load and Prepare Data",
   "id": "95616e1d38eea791"
  },
  {
   "metadata": {
    "ExecuteTime": {
     "end_time": "2025-10-19T13:12:28.772346Z",
     "start_time": "2025-10-19T13:12:28.763077Z"
    }
   },
   "cell_type": "code",
   "source": [
    "print(\"\\n=== Loading and Preparing Data ===\")\n",
    "try:\n",
    "    df = pd.read_csv(training_data_file)\n",
    "except FileNotFoundError:\n",
    "    print(\"Error: 'training_dataset_01.csv' not found.\")\n",
    "    exit()"
   ],
   "id": "bbee78b1e2ad7d69",
   "outputs": [
    {
     "name": "stdout",
     "output_type": "stream",
     "text": [
      "\n",
      "=== Loading and Preparing Data ===\n"
     ]
    }
   ],
   "execution_count": 18
  },
  {
   "metadata": {},
   "cell_type": "markdown",
   "source": "### Convert timestamp",
   "id": "92f75eb6ce46190a"
  },
  {
   "metadata": {
    "ExecuteTime": {
     "end_time": "2025-10-19T13:12:28.826241Z",
     "start_time": "2025-10-19T13:12:28.810397Z"
    }
   },
   "cell_type": "code",
   "source": [
    "df['timestamp'] = pd.to_datetime(df['timestamp'], errors='coerce')\n",
    "df.dropna(subset=['timestamp'], inplace=True)\n",
    "df['hour'] = df['timestamp'].dt.hour\n",
    "\n",
    "print(f\"Data loaded successfully with {len(df)} valid rows.\")\n",
    "print(\"=\" * 50)"
   ],
   "id": "f25aeda71cca613d",
   "outputs": [
    {
     "name": "stdout",
     "output_type": "stream",
     "text": [
      "Data loaded successfully with 1765 valid rows.\n",
      "==================================================\n"
     ]
    }
   ],
   "execution_count": 19
  },
  {
   "metadata": {},
   "cell_type": "markdown",
   "source": "## Model 1: Pump Control (KNN)",
   "id": "51b408b1f600fcd2"
  },
  {
   "metadata": {
    "ExecuteTime": {
     "end_time": "2025-10-19T13:12:28.854392Z",
     "start_time": "2025-10-19T13:12:28.849020Z"
    }
   },
   "cell_type": "code",
   "source": "print(\"\\n--- Training Model 1: Pump Control (KNN) ---\")",
   "id": "5f66b126ca93cfb2",
   "outputs": [
    {
     "name": "stdout",
     "output_type": "stream",
     "text": [
      "\n",
      "--- Training Model 1: Pump Control (KNN) ---\n"
     ]
    }
   ],
   "execution_count": 20
  },
  {
   "metadata": {},
   "cell_type": "markdown",
   "source": "### Features & target",
   "id": "675b62ef40d6f195"
  },
  {
   "metadata": {
    "ExecuteTime": {
     "end_time": "2025-10-19T13:12:28.896672Z",
     "start_time": "2025-10-19T13:12:28.892277Z"
    }
   },
   "cell_type": "code",
   "source": [
    "X_pump = df[['water_level_percent']]\n",
    "y_pump = df['pump_signal_target']"
   ],
   "id": "96b5e916c75f00e8",
   "outputs": [],
   "execution_count": 21
  },
  {
   "metadata": {},
   "cell_type": "markdown",
   "source": "### Split",
   "id": "3eedf277fc9de8f"
  },
  {
   "metadata": {
    "ExecuteTime": {
     "end_time": "2025-10-19T13:12:28.935370Z",
     "start_time": "2025-10-19T13:12:28.927037Z"
    }
   },
   "cell_type": "code",
   "source": [
    "X_train_pump, X_test_pump, y_train_pump, y_test_pump = train_test_split(\n",
    "    X_pump, y_pump, test_size=0.3, random_state=42\n",
    ")"
   ],
   "id": "5bec8bc4871ff1e7",
   "outputs": [],
   "execution_count": 22
  },
  {
   "metadata": {},
   "cell_type": "markdown",
   "source": "### Scale features",
   "id": "251d98e98cefc3a4"
  },
  {
   "metadata": {
    "ExecuteTime": {
     "end_time": "2025-10-19T13:12:28.971473Z",
     "start_time": "2025-10-19T13:12:28.962923Z"
    }
   },
   "cell_type": "code",
   "source": [
    "scaler_pump = StandardScaler()\n",
    "X_train_pump_scaled = scaler_pump.fit_transform(X_train_pump)\n",
    "X_test_pump_scaled = scaler_pump.transform(X_test_pump)"
   ],
   "id": "cb0e12a989a1012b",
   "outputs": [],
   "execution_count": 23
  },
  {
   "metadata": {},
   "cell_type": "markdown",
   "source": "### Train KNN",
   "id": "98d66a9a245473e0"
  },
  {
   "metadata": {
    "ExecuteTime": {
     "end_time": "2025-10-19T13:12:29.006732Z",
     "start_time": "2025-10-19T13:12:28.997688Z"
    }
   },
   "cell_type": "code",
   "source": [
    "pump_model = KNeighborsClassifier(n_neighbors=5, weights='distance')\n",
    "pump_model.fit(X_train_pump_scaled, y_train_pump)\n",
    "print(\"Pump control KNN model training complete.\")"
   ],
   "id": "699904d93856afc6",
   "outputs": [
    {
     "name": "stdout",
     "output_type": "stream",
     "text": [
      "Pump control KNN model training complete.\n"
     ]
    }
   ],
   "execution_count": 24
  },
  {
   "metadata": {},
   "cell_type": "markdown",
   "source": "### Save model & scaler",
   "id": "bd3d68be34b4e177"
  },
  {
   "metadata": {
    "ExecuteTime": {
     "end_time": "2025-10-19T13:12:29.063849Z",
     "start_time": "2025-10-19T13:12:29.053519Z"
    }
   },
   "cell_type": "code",
   "source": [
    "joblib.dump(pump_model, water_pump_model)\n",
    "joblib.dump(scaler_pump, water_pump_scaler)\n",
    "print(f\"Saved {water_pump_model} and {water_pump_scaler}.\")"
   ],
   "id": "4236fc21967ce40e",
   "outputs": [
    {
     "name": "stdout",
     "output_type": "stream",
     "text": [
      "Saved model/aqua_man_model.pkl and model/aqua_man_scaler.pkl.\n"
     ]
    }
   ],
   "execution_count": 25
  },
  {
   "metadata": {},
   "cell_type": "markdown",
   "source": "### Evaluate",
   "id": "5cacc4b5651c3dc2"
  },
  {
   "metadata": {
    "ExecuteTime": {
     "end_time": "2025-10-19T13:12:29.129228Z",
     "start_time": "2025-10-19T13:12:29.111441Z"
    }
   },
   "cell_type": "code",
   "source": [
    "y_pred_pump = pump_model.predict(X_test_pump_scaled)\n",
    "accuracy_pump = accuracy_score(y_test_pump, y_pred_pump)\n",
    "print(f\"Pump Model Accuracy: {accuracy_pump:.4f}\")\n",
    "\n",
    "print(\"\\nPump Classification Report:\")\n",
    "print(classification_report(y_test_pump, y_pred_pump, target_names=['Pump OFF (0)', 'Pump ON (1)']))"
   ],
   "id": "1f6eede4a44841a4",
   "outputs": [
    {
     "name": "stdout",
     "output_type": "stream",
     "text": [
      "Pump Model Accuracy: 0.9302\n",
      "\n",
      "Pump Classification Report:\n",
      "              precision    recall  f1-score   support\n",
      "\n",
      "Pump OFF (0)       0.95      0.93      0.94       325\n",
      " Pump ON (1)       0.90      0.93      0.91       205\n",
      "\n",
      "    accuracy                           0.93       530\n",
      "   macro avg       0.92      0.93      0.93       530\n",
      "weighted avg       0.93      0.93      0.93       530\n",
      "\n"
     ]
    }
   ],
   "execution_count": 26
  },
  {
   "metadata": {},
   "cell_type": "markdown",
   "source": "### Confusion Matrix",
   "id": "13b074f3bca5ed0d"
  },
  {
   "metadata": {
    "ExecuteTime": {
     "end_time": "2025-10-19T13:12:29.403058Z",
     "start_time": "2025-10-19T13:12:29.154652Z"
    }
   },
   "cell_type": "code",
   "source": [
    "cm_pump = confusion_matrix(y_test_pump, y_pred_pump)\n",
    "plt.figure(figsize=(6, 5))\n",
    "sns.heatmap(cm_pump, annot=True, fmt='d', cmap='Blues',\n",
    "            xticklabels=['Pred OFF', 'Pred ON'], yticklabels=['Act OFF', 'Act ON'])\n",
    "plt.title('Pump Control (KNN) - Confusion Matrix')\n",
    "plt.xlabel('Predicted')\n",
    "plt.ylabel('Actual')\n",
    "plt.tight_layout()\n",
    "plt.savefig('model/pump_knn_confusion_matrix.png')\n",
    "print(\"Saved confusion matrix as 'pump_knn_confusion_matrix.png'.\")\n",
    "print(\"=\" * 50)"
   ],
   "id": "e1890523ab6d5511",
   "outputs": [
    {
     "name": "stdout",
     "output_type": "stream",
     "text": [
      "Saved confusion matrix as 'pump_knn_confusion_matrix.png'.\n",
      "==================================================\n"
     ]
    },
    {
     "data": {
      "text/plain": [
       "<Figure size 600x500 with 2 Axes>"
      ],
      "image/png": "[encoded data removed]"
     },
     "metadata": {},
     "output_type": "display_data",
     "jetTransient": {
      "display_id": null
     }
    }
   ],
   "execution_count": 27
  },
  {
   "metadata": {},
   "cell_type": "markdown",
   "source": "## Model 2: Leak Detection (KNN)",
   "id": "6f2de48e5f9a4e97"
  },
  {
   "metadata": {
    "ExecuteTime": {
     "end_time": "2025-10-19T13:12:29.427944Z",
     "start_time": "2025-10-19T13:12:29.424434Z"
    }
   },
   "cell_type": "code",
   "source": "print(\"\\n--- Training Model 2: Leak Detection (KNN) ---\")",
   "id": "35e0b28a47490222",
   "outputs": [
    {
     "name": "stdout",
     "output_type": "stream",
     "text": [
      "\n",
      "--- Training Model 2: Leak Detection (KNN) ---\n"
     ]
    }
   ],
   "execution_count": 28
  },
  {
   "metadata": {},
   "cell_type": "markdown",
   "source": "### Features & target",
   "id": "3cf1bc3f0dc3a25f"
  },
  {
   "metadata": {
    "ExecuteTime": {
     "end_time": "2025-10-19T13:12:29.477563Z",
     "start_time": "2025-10-19T13:12:29.469994Z"
    }
   },
   "cell_type": "code",
   "source": [
    "X_leak = df[['hour', 'water_level_percent', 'water_volume_litres']]\n",
    "y_leak = df['leak_detection_active_target']"
   ],
   "id": "d729f185bd2bff5e",
   "outputs": [],
   "execution_count": 29
  },
  {
   "metadata": {},
   "cell_type": "markdown",
   "source": "### Split",
   "id": "16c65276f1cd766c"
  },
  {
   "metadata": {
    "ExecuteTime": {
     "end_time": "2025-10-19T13:12:29.512039Z",
     "start_time": "2025-10-19T13:12:29.504089Z"
    }
   },
   "cell_type": "code",
   "source": [
    "X_train_leak, X_test_leak, y_train_leak, y_test_leak = train_test_split(\n",
    "    X_leak, y_leak, test_size=0.3, random_state=42\n",
    ")"
   ],
   "id": "5968b8728fd82b58",
   "outputs": [],
   "execution_count": 30
  },
  {
   "metadata": {},
   "cell_type": "markdown",
   "source": "### Scale",
   "id": "1832e979ee1fce2c"
  },
  {
   "metadata": {
    "ExecuteTime": {
     "end_time": "2025-10-19T13:12:29.555545Z",
     "start_time": "2025-10-19T13:12:29.543862Z"
    }
   },
   "cell_type": "code",
   "source": [
    "scaler_leak = StandardScaler()\n",
    "X_train_leak_scaled = scaler_leak.fit_transform(X_train_leak)\n",
    "X_test_leak_scaled = scaler_leak.transform(X_test_leak)"
   ],
   "id": "ffd37a837ab481af",
   "outputs": [],
   "execution_count": 31
  },
  {
   "metadata": {},
   "cell_type": "markdown",
   "source": "### Train KNN",
   "id": "c7ed9a3664add29a"
  },
  {
   "metadata": {
    "ExecuteTime": {
     "end_time": "2025-10-19T13:12:29.585292Z",
     "start_time": "2025-10-19T13:12:29.577168Z"
    }
   },
   "cell_type": "code",
   "source": [
    "leak_model = KNeighborsClassifier(n_neighbors=7, weights='distance')\n",
    "leak_model.fit(X_train_leak_scaled, y_train_leak)\n",
    "print(\"Leak detection KNN model training complete.\")"
   ],
   "id": "52146ab668920022",
   "outputs": [
    {
     "name": "stdout",
     "output_type": "stream",
     "text": [
      "Leak detection KNN model training complete.\n"
     ]
    }
   ],
   "execution_count": 32
  },
  {
   "metadata": {},
   "cell_type": "markdown",
   "source": "### Save model & scaler",
   "id": "fb21fb13a15952c9"
  },
  {
   "metadata": {
    "ExecuteTime": {
     "end_time": "2025-10-19T13:12:29.614919Z",
     "start_time": "2025-10-19T13:12:29.605798Z"
    }
   },
   "cell_type": "code",
   "source": [
    "joblib.dump(leak_model, leak_detection_model)\n",
    "joblib.dump(scaler_leak, leak_detection_scaler)\n",
    "print(f\"Saved {leak_detection_model} and {leak_detection_scaler}.\")"
   ],
   "id": "697972dc93b396ff",
   "outputs": [
    {
     "name": "stdout",
     "output_type": "stream",
     "text": [
      "Saved model/leak_detector_model.pkl and model/leak_detector_scaler.pkl.\n"
     ]
    }
   ],
   "execution_count": 33
  },
  {
   "metadata": {},
   "cell_type": "markdown",
   "source": "### Evaluate",
   "id": "ab0b3c6a72878e5a"
  },
  {
   "metadata": {
    "ExecuteTime": {
     "end_time": "2025-10-19T13:12:29.672608Z",
     "start_time": "2025-10-19T13:12:29.651951Z"
    }
   },
   "cell_type": "code",
   "source": [
    "y_pred_leak = leak_model.predict(X_test_leak_scaled)\n",
    "accuracy_leak = accuracy_score(y_test_leak, y_pred_leak)\n",
    "print(f\"Leak Model Accuracy: {accuracy_leak:.4f}\")\n",
    "\n",
    "print(\"\\nLeak Classification Report:\")\n",
    "print(classification_report(y_test_leak, y_pred_leak, target_names=['Inactive (0)', 'Active (1)']))"
   ],
   "id": "2ff1041c9d97df01",
   "outputs": [
    {
     "name": "stdout",
     "output_type": "stream",
     "text": [
      "Leak Model Accuracy: 1.0000\n",
      "\n",
      "Leak Classification Report:\n",
      "              precision    recall  f1-score   support\n",
      "\n",
      "Inactive (0)       1.00      1.00      1.00       486\n",
      "  Active (1)       1.00      1.00      1.00        44\n",
      "\n",
      "    accuracy                           1.00       530\n",
      "   macro avg       1.00      1.00      1.00       530\n",
      "weighted avg       1.00      1.00      1.00       530\n",
      "\n"
     ]
    }
   ],
   "execution_count": 34
  },
  {
   "metadata": {},
   "cell_type": "markdown",
   "source": "### Confusion Matrix",
   "id": "87efcb0f974eda0a"
  },
  {
   "metadata": {
    "ExecuteTime": {
     "end_time": "2025-10-19T13:12:29.945770Z",
     "start_time": "2025-10-19T13:12:29.718557Z"
    }
   },
   "cell_type": "code",
   "source": [
    "cm_leak = confusion_matrix(y_test_leak, y_pred_leak)\n",
    "plt.figure(figsize=(6, 5))\n",
    "sns.heatmap(cm_leak, annot=True, fmt='d', cmap='Greens',\n",
    "            xticklabels=['Pred INACTIVE', 'Pred ACTIVE'],\n",
    "            yticklabels=['Act INACTIVE', 'Act ACTIVE'])\n",
    "plt.title('Leak Detection (KNN) - Confusion Matrix')\n",
    "plt.xlabel('Predicted')\n",
    "plt.ylabel('Actual')\n",
    "plt.tight_layout()\n",
    "plt.savefig('model/leak_knn_confusion_matrix.png')\n",
    "print(\"Saved confusion matrix as 'leak_knn_confusion_matrix.png'.\")\n",
    "print(\"=\" * 50)\n",
    "\n",
    "print(\"\\n✅ All tasks complete using KNN.\")"
   ],
   "id": "5465e934cdf3e7c9",
   "outputs": [
    {
     "name": "stdout",
     "output_type": "stream",
     "text": [
      "Saved confusion matrix as 'leak_knn_confusion_matrix.png'.\n",
      "==================================================\n",
      "\n",
      "✅ All tasks complete using KNN.\n"
     ]
    },
    {
     "data": {
      "text/plain": [
       "<Figure size 600x500 with 2 Axes>"
      ],
      "image/png": "[encoded data removed]"
     },
     "metadata": {},
     "output_type": "display_data",
     "jetTransient": {
      "display_id": null
     }
    }
   ],
   "execution_count": 35
  }
 ],
 "metadata": {
  "kernelspec": {
   "display_name": "Python 3",
   "language": "python",
   "name": "python3"
  },
  "language_info": {
   "codemirror_mode": {
    "name": "ipython",
    "version": 2
   },
   "file_extension": ".py",
   "mimetype": "text/x-python",
   "name": "python",
   "nbconvert_exporter": "python",
   "pygments_lexer": "ipython2",
   "version": "2.7.6"
  }
 },
 "nbformat": 4,
 "nbformat_minor": 5
}
