{
 "cells": [
  {
   "metadata": {},
   "cell_type": "markdown",
   "source": "# **Water Tank Management Model**",
   "id": "5d9e3614d562ec38"
  },
  {
   "metadata": {},
   "cell_type": "markdown",
   "source": "## Imports",
   "id": "56a11c327227e385"
  },
  {
   "metadata": {
    "ExecuteTime": {
     "end_time": "2025-10-20T04:04:41.583486Z",
     "start_time": "2025-10-20T04:04:41.579562Z"
    }
   },
   "cell_type": "code",
   "source": [
    "import pandas as pd\n",
    "import numpy as np\n",
    "from sklearn.model_selection import train_test_split\n",
    "from sklearn.preprocessing import StandardScaler\n",
    "from sklearn.neighbors import KNeighborsClassifier\n",
    "from sklearn.metrics import accuracy_score, confusion_matrix, classification_report\n",
    "import seaborn as sns\n",
    "import matplotlib.pyplot as plt\n",
    "import joblib\n",
    "import os"
   ],
   "id": "2d09a729dbd5b3a7",
   "outputs": [],
   "execution_count": 41
  },
  {
   "metadata": {},
   "cell_type": "markdown",
   "source": "## File Names and Location",
   "id": "c031685b15442830"
  },
  {
   "metadata": {
    "ExecuteTime": {
     "end_time": "2025-10-20T04:04:41.605974Z",
     "start_time": "2025-10-20T04:04:41.602800Z"
    }
   },
   "cell_type": "code",
   "source": [
    "training_data_file = \"data/training_dataset_1000.csv\"\n",
    "water_pump_model = \"aqua_man_model.pkl\"\n",
    "water_pump_scaler = \"aqua_man_scaler.pkl\"\n",
    "leak_detection_model = \"leak_detector_model.pkl\"\n",
    "leak_detection_scaler = \"leak_detector_scaler.pkl\"\n",
    "output_dir = 'model'"
   ],
   "id": "83207a5ee698111b",
   "outputs": [],
   "execution_count": 42
  },
  {
   "metadata": {},
   "cell_type": "markdown",
   "source": "## Load and Prepare Data",
   "id": "95616e1d38eea791"
  },
  {
   "metadata": {
    "ExecuteTime": {
     "end_time": "2025-10-20T04:04:41.691135Z",
     "start_time": "2025-10-20T04:04:41.615546Z"
    }
   },
   "cell_type": "code",
   "source": [
    "if not os.path.exists(output_dir):\n",
    "    os.makedirs(output_dir)\n",
    "    print(f\"Directory '{output_dir}' created.\")\n",
    "else:\n",
    "    print(f\"Directory '{output_dir}' already exists.\")\n",
    "\n",
    "print(\"\\n=== Loading and Preparing Data ===\")\n",
    "try:\n",
    "    df = pd.read_csv(training_data_file)\n",
    "except FileNotFoundError:\n",
    "    print(\"Error: 'training_dataset_01.csv' not found.\")\n",
    "    exit()"
   ],
   "id": "bbee78b1e2ad7d69",
   "outputs": [
    {
     "name": "stdout",
     "output_type": "stream",
     "text": [
      "Directory 'model' already exists.\n",
      "\n",
      "=== Loading and Preparing Data ===\n"
     ]
    }
   ],
   "execution_count": 43
  },
  {
   "metadata": {},
   "cell_type": "markdown",
   "source": "### Convert timestamp",
   "id": "92f75eb6ce46190a"
  },
  {
   "metadata": {
    "ExecuteTime": {
     "end_time": "2025-10-20T04:04:41.847926Z",
     "start_time": "2025-10-20T04:04:41.715629Z"
    }
   },
   "cell_type": "code",
   "source": [
    "df['timestamp'] = pd.to_datetime(df['timestamp'], errors='coerce')\n",
    "df.dropna(subset=['timestamp'], inplace=True)\n",
    "df['hour'] = df['timestamp'].dt.hour\n",
    "df['level_change'] = df['water_level_percent'].diff()\n",
    "df.fillna({'level_change':0}, inplace=True)\n",
    "\n",
    "print(f\"Data loaded successfully with {len(df)} valid rows.\")\n",
    "print(\"=\" * 50)"
   ],
   "id": "f25aeda71cca613d",
   "outputs": [
    {
     "name": "stdout",
     "output_type": "stream",
     "text": [
      "Data loaded successfully with 96000 valid rows.\n",
      "==================================================\n"
     ]
    }
   ],
   "execution_count": 44
  },
  {
   "metadata": {},
   "cell_type": "markdown",
   "source": "## Model 1: Pump Control (KNN)",
   "id": "51b408b1f600fcd2"
  },
  {
   "metadata": {
    "ExecuteTime": {
     "end_time": "2025-10-20T04:04:41.861879Z",
     "start_time": "2025-10-20T04:04:41.858387Z"
    }
   },
   "cell_type": "code",
   "source": "print(\"\\n--- Training Model 1: Pump Control (KNN) ---\")",
   "id": "5f66b126ca93cfb2",
   "outputs": [
    {
     "name": "stdout",
     "output_type": "stream",
     "text": [
      "\n",
      "--- Training Model 1: Pump Control (KNN) ---\n"
     ]
    }
   ],
   "execution_count": 45
  },
  {
   "metadata": {},
   "cell_type": "markdown",
   "source": "### Features & target",
   "id": "675b62ef40d6f195"
  },
  {
   "metadata": {
    "ExecuteTime": {
     "end_time": "2025-10-20T04:04:41.910904Z",
     "start_time": "2025-10-20T04:04:41.906550Z"
    }
   },
   "cell_type": "code",
   "source": [
    "X_pump = df[['water_level_percent', 'hour', 'pump_state']]\n",
    "y_pump = df['pump_signal_target']"
   ],
   "id": "96b5e916c75f00e8",
   "outputs": [],
   "execution_count": 46
  },
  {
   "metadata": {},
   "cell_type": "markdown",
   "source": "### Split with class balance",
   "id": "3eedf277fc9de8f"
  },
  {
   "metadata": {
    "ExecuteTime": {
     "end_time": "2025-10-20T04:04:41.970153Z",
     "start_time": "2025-10-20T04:04:41.933872Z"
    }
   },
   "cell_type": "code",
   "source": [
    "X_train_pump, X_test_pump, y_train_pump, y_test_pump = train_test_split(\n",
    "    X_pump, y_pump, test_size=0.3, random_state=42, stratify=y_pump\n",
    ")"
   ],
   "id": "5bec8bc4871ff1e7",
   "outputs": [],
   "execution_count": 47
  },
  {
   "metadata": {},
   "cell_type": "markdown",
   "source": "### Scale features",
   "id": "251d98e98cefc3a4"
  },
  {
   "metadata": {
    "ExecuteTime": {
     "end_time": "2025-10-20T04:04:41.987292Z",
     "start_time": "2025-10-20T04:04:41.975568Z"
    }
   },
   "cell_type": "code",
   "source": [
    "scaler_pump = StandardScaler()\n",
    "X_train_pump_scaled = scaler_pump.fit_transform(X_train_pump)\n",
    "X_test_pump_scaled = scaler_pump.transform(X_test_pump)"
   ],
   "id": "cb0e12a989a1012b",
   "outputs": [],
   "execution_count": 48
  },
  {
   "metadata": {},
   "cell_type": "markdown",
   "source": "### Train KNN",
   "id": "98d66a9a245473e0"
  },
  {
   "metadata": {
    "ExecuteTime": {
     "end_time": "2025-10-20T04:04:42.049272Z",
     "start_time": "2025-10-20T04:04:41.994961Z"
    }
   },
   "cell_type": "code",
   "source": [
    "pump_model = KNeighborsClassifier(n_neighbors=5, weights='distance')\n",
    "pump_model.fit(X_train_pump_scaled, y_train_pump)\n",
    "print(\"Pump control KNN model training complete.\")"
   ],
   "id": "699904d93856afc6",
   "outputs": [
    {
     "name": "stdout",
     "output_type": "stream",
     "text": [
      "Pump control KNN model training complete.\n"
     ]
    }
   ],
   "execution_count": 49
  },
  {
   "metadata": {},
   "cell_type": "markdown",
   "source": "### Save model & scaler",
   "id": "bd3d68be34b4e177"
  },
  {
   "metadata": {
    "ExecuteTime": {
     "end_time": "2025-10-20T04:04:42.068706Z",
     "start_time": "2025-10-20T04:04:42.057881Z"
    }
   },
   "cell_type": "code",
   "source": [
    "joblib.dump(pump_model, os.path.join(output_dir, water_pump_model))\n",
    "joblib.dump(scaler_pump, os.path.join(output_dir, water_pump_scaler))\n",
    "print(f\"Saved {water_pump_model} and {water_pump_scaler} to '{output_dir}/'.\")"
   ],
   "id": "4236fc21967ce40e",
   "outputs": [
    {
     "name": "stdout",
     "output_type": "stream",
     "text": [
      "Saved aqua_man_model.pkl and aqua_man_scaler.pkl to 'model/'.\n"
     ]
    }
   ],
   "execution_count": 50
  },
  {
   "metadata": {},
   "cell_type": "markdown",
   "source": "### Evaluate",
   "id": "5cacc4b5651c3dc2"
  },
  {
   "metadata": {
    "ExecuteTime": {
     "end_time": "2025-10-20T04:04:42.297395Z",
     "start_time": "2025-10-20T04:04:42.081025Z"
    }
   },
   "cell_type": "code",
   "source": [
    "y_pred_pump = pump_model.predict(X_test_pump_scaled)\n",
    "accuracy_pump = accuracy_score(y_test_pump, y_pred_pump)\n",
    "print(f\"Pump Model Accuracy: {accuracy_pump:.4f}\")\n",
    "\n",
    "print(\"\\nPump Model Classification Report:\")\n",
    "print(classification_report(y_test_pump, y_pred_pump, target_names=['Pump OFF (0)', 'Pump ON (1)']))"
   ],
   "id": "1f6eede4a44841a4",
   "outputs": [
    {
     "name": "stdout",
     "output_type": "stream",
     "text": [
      "Pump Model Accuracy: 0.9986\n",
      "\n",
      "Pump Model Classification Report:\n",
      "              precision    recall  f1-score   support\n",
      "\n",
      "Pump OFF (0)       1.00      1.00      1.00     19848\n",
      " Pump ON (1)       1.00      1.00      1.00      8952\n",
      "\n",
      "    accuracy                           1.00     28800\n",
      "   macro avg       1.00      1.00      1.00     28800\n",
      "weighted avg       1.00      1.00      1.00     28800\n",
      "\n"
     ]
    }
   ],
   "execution_count": 51
  },
  {
   "metadata": {},
   "cell_type": "markdown",
   "source": "### Confusion Matrix",
   "id": "13b074f3bca5ed0d"
  },
  {
   "metadata": {
    "ExecuteTime": {
     "end_time": "2025-10-20T04:04:42.501974Z",
     "start_time": "2025-10-20T04:04:42.307655Z"
    }
   },
   "cell_type": "code",
   "source": [
    "cm_pump = confusion_matrix(y_test_pump, y_pred_pump)\n",
    "plt.figure(figsize=(6, 5))\n",
    "sns.heatmap(cm_pump, annot=True, fmt='d', cmap='Blues',\n",
    "            xticklabels=['Pred OFF', 'Pred ON'], yticklabels=['Act OFF', 'Act ON'])\n",
    "plt.title('Pump Control (KNN) - Confusion Matrix')\n",
    "plt.xlabel('Predicted')\n",
    "plt.ylabel('Actual')\n",
    "plt.tight_layout()\n",
    "plt.savefig(os.path.join(output_dir, 'pump_knn_confusion_matrix.png'))\n",
    "print(f\"Saved confusion matrix to '{output_dir}/pump_knn_confusion_matrix.png'.\")\n",
    "print(\"=\" * 50)"
   ],
   "id": "e1890523ab6d5511",
   "outputs": [
    {
     "name": "stdout",
     "output_type": "stream",
     "text": [
      "Saved confusion matrix to 'model/pump_knn_confusion_matrix.png'.\n",
      "==================================================\n"
     ]
    },
    {
     "data": {
      "text/plain": [
       "<Figure size 600x500 with 2 Axes>"
      ],
      "image/png": "[encoded data removed]"
     },
     "metadata": {},
     "output_type": "display_data",
     "jetTransient": {
      "display_id": null
     }
    }
   ],
   "execution_count": 52
  },
  {
   "metadata": {},
   "cell_type": "markdown",
   "source": "## Model 2: Leak Detection (KNN)",
   "id": "6f2de48e5f9a4e97"
  },
  {
   "metadata": {
    "ExecuteTime": {
     "end_time": "2025-10-20T04:04:42.517036Z",
     "start_time": "2025-10-20T04:04:42.513384Z"
    }
   },
   "cell_type": "code",
   "source": "print(\"\\n--- Training Model 2: Leak Detection (KNN) ---\")",
   "id": "35e0b28a47490222",
   "outputs": [
    {
     "name": "stdout",
     "output_type": "stream",
     "text": [
      "\n",
      "--- Training Model 2: Leak Detection (KNN) ---\n"
     ]
    }
   ],
   "execution_count": 53
  },
  {
   "metadata": {},
   "cell_type": "markdown",
   "source": "### Features & target",
   "id": "3cf1bc3f0dc3a25f"
  },
  {
   "metadata": {
    "ExecuteTime": {
     "end_time": "2025-10-20T04:04:42.540461Z",
     "start_time": "2025-10-20T04:04:42.535874Z"
    }
   },
   "cell_type": "code",
   "source": [
    "X_leak = df[['hour', 'pump_state', 'level_change']]\n",
    "y_leak = df['leak_detection_active_target']"
   ],
   "id": "d729f185bd2bff5e",
   "outputs": [],
   "execution_count": 54
  },
  {
   "metadata": {},
   "cell_type": "markdown",
   "source": "### Split",
   "id": "16c65276f1cd766c"
  },
  {
   "metadata": {
    "ExecuteTime": {
     "end_time": "2025-10-20T04:04:42.592997Z",
     "start_time": "2025-10-20T04:04:42.554943Z"
    }
   },
   "cell_type": "code",
   "source": [
    "X_train_leak, X_test_leak, y_train_leak, y_test_leak = train_test_split(\n",
    "    X_leak, y_leak, test_size=0.3, random_state=42, stratify=y_leak\n",
    ")"
   ],
   "id": "5968b8728fd82b58",
   "outputs": [],
   "execution_count": 55
  },
  {
   "metadata": {},
   "cell_type": "markdown",
   "source": "### Scale",
   "id": "1832e979ee1fce2c"
  },
  {
   "metadata": {
    "ExecuteTime": {
     "end_time": "2025-10-20T04:04:42.610222Z",
     "start_time": "2025-10-20T04:04:42.599046Z"
    }
   },
   "cell_type": "code",
   "source": [
    "scaler_leak = StandardScaler()\n",
    "X_train_leak_scaled = scaler_leak.fit_transform(X_train_leak)\n",
    "X_test_leak_scaled = scaler_leak.transform(X_test_leak)"
   ],
   "id": "ffd37a837ab481af",
   "outputs": [],
   "execution_count": 56
  },
  {
   "metadata": {},
   "cell_type": "markdown",
   "source": "### Train KNN",
   "id": "c7ed9a3664add29a"
  },
  {
   "metadata": {
    "ExecuteTime": {
     "end_time": "2025-10-20T04:04:42.672312Z",
     "start_time": "2025-10-20T04:04:42.617301Z"
    }
   },
   "cell_type": "code",
   "source": [
    "leak_model = KNeighborsClassifier(n_neighbors=7, weights='distance')\n",
    "leak_model.fit(X_train_leak_scaled, y_train_leak)\n",
    "print(\"Leak detection KNN model training complete.\")"
   ],
   "id": "52146ab668920022",
   "outputs": [
    {
     "name": "stdout",
     "output_type": "stream",
     "text": [
      "Leak detection KNN model training complete.\n"
     ]
    }
   ],
   "execution_count": 57
  },
  {
   "metadata": {},
   "cell_type": "markdown",
   "source": "### Save model & scaler",
   "id": "fb21fb13a15952c9"
  },
  {
   "metadata": {
    "ExecuteTime": {
     "end_time": "2025-10-20T04:04:42.692343Z",
     "start_time": "2025-10-20T04:04:42.681381Z"
    }
   },
   "cell_type": "code",
   "source": [
    "joblib.dump(leak_model, os.path.join(output_dir, leak_detection_model))\n",
    "joblib.dump(scaler_leak, os.path.join(output_dir, leak_detection_scaler))\n",
    "print(f\"Saved {leak_detection_model} and {leak_detection_scaler} to '{output_dir}/'.\")"
   ],
   "id": "697972dc93b396ff",
   "outputs": [
    {
     "name": "stdout",
     "output_type": "stream",
     "text": [
      "Saved leak_detector_model.pkl and leak_detector_scaler.pkl to 'model/'.\n"
     ]
    }
   ],
   "execution_count": 58
  },
  {
   "metadata": {},
   "cell_type": "markdown",
   "source": "### Evaluate",
   "id": "ab0b3c6a72878e5a"
  },
  {
   "metadata": {
    "ExecuteTime": {
     "end_time": "2025-10-20T04:04:43.027073Z",
     "start_time": "2025-10-20T04:04:42.706040Z"
    }
   },
   "cell_type": "code",
   "source": [
    "y_pred_leak = leak_model.predict(X_test_leak_scaled)\n",
    "accuracy_leak = accuracy_score(y_test_leak, y_pred_leak)\n",
    "print(f\"Leak Model Accuracy: {accuracy_leak:.4f}\")\n",
    "\n",
    "print(\"\\nLeak Model Classification Report:\")\n",
    "print(classification_report(y_test_leak, y_pred_leak, target_names=['Mode INACTIVE (0)', 'Mode ACTIVE (1)']))"
   ],
   "id": "2ff1041c9d97df01",
   "outputs": [
    {
     "name": "stdout",
     "output_type": "stream",
     "text": [
      "Leak Model Accuracy: 0.9991\n",
      "\n",
      "Leak Model Classification Report:\n",
      "                   precision    recall  f1-score   support\n",
      "\n",
      "Mode INACTIVE (0)       1.00      1.00      1.00     26400\n",
      "  Mode ACTIVE (1)       1.00      0.99      0.99      2400\n",
      "\n",
      "         accuracy                           1.00     28800\n",
      "        macro avg       1.00      1.00      1.00     28800\n",
      "     weighted avg       1.00      1.00      1.00     28800\n",
      "\n"
     ]
    }
   ],
   "execution_count": 59
  },
  {
   "metadata": {},
   "cell_type": "markdown",
   "source": "### Confusion Matrix",
   "id": "87efcb0f974eda0a"
  },
  {
   "metadata": {
    "ExecuteTime": {
     "end_time": "2025-10-20T04:04:43.238498Z",
     "start_time": "2025-10-20T04:04:43.050241Z"
    }
   },
   "cell_type": "code",
   "source": [
    "cm_leak = confusion_matrix(y_test_leak, y_pred_leak)\n",
    "plt.figure(figsize=(6, 5))\n",
    "sns.heatmap(cm_leak, annot=True, fmt='d', cmap='Greens',\n",
    "            xticklabels=['Pred INACTIVE', 'Pred ACTIVE'],\n",
    "            yticklabels=['Act INACTIVE', 'Act ACTIVE'])\n",
    "plt.title('Leak Detection (KNN) - Confusion Matrix')\n",
    "plt.xlabel('Predicted')\n",
    "plt.ylabel('Actual')\n",
    "plt.tight_layout()\n",
    "plt.savefig(os.path.join(output_dir, 'leak_knn_confusion_matrix.png'))\n",
    "print(f\"Saved confusion matrix to '{output_dir}/leak_knn_confusion_matrix.png'.\")\n",
    "print(\"=\" * 50)\n",
    "\n",
    "print(\"\\n✅ All tasks complete using KNN.\")"
   ],
   "id": "5465e934cdf3e7c9",
   "outputs": [
    {
     "name": "stdout",
     "output_type": "stream",
     "text": [
      "Saved confusion matrix to 'model/leak_knn_confusion_matrix.png'.\n",
      "==================================================\n",
      "\n",
      "✅ All tasks complete using KNN.\n"
     ]
    },
    {
     "data": {
      "text/plain": [
       "<Figure size 600x500 with 2 Axes>"
      ],
      "image/png": "[encoded data removed]"
     },
     "metadata": {},
     "output_type": "display_data",
     "jetTransient": {
      "display_id": null
     }
    }
   ],
   "execution_count": 60
  }
 ],
 "metadata": {
  "kernelspec": {
   "display_name": "Python 3",
   "language": "python",
   "name": "python3"
  },
  "language_info": {
   "codemirror_mode": {
    "name": "ipython",
    "version": 2
   },
   "file_extension": ".py",
   "mimetype": "text/x-python",
   "name": "python",
   "nbconvert_exporter": "python",
   "pygments_lexer": "ipython2",
   "version": "2.7.6"
  }
 },
 "nbformat": 4,
 "nbformat_minor": 5
}
